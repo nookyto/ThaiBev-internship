{
 "cells": [
  {
   "cell_type": "code",
   "execution_count": 989,
   "metadata": {},
   "outputs": [],
   "source": [
    "import numpy as np"
   ]
  },
  {
   "cell_type": "code",
   "execution_count": 990,
   "metadata": {},
   "outputs": [],
   "source": [
    "n_days = 6\n",
    "\n",
    "# Initialize arrays\n",
    "total_stocks_in_system = 0\n",
    "stocks_used = np.zeros(n_days)\n",
    "stocks_left = np.zeros(n_days)\n",
    "stock_shortages = np.zeros(n_days)\n"
   ]
  },
  {
   "cell_type": "code",
   "execution_count": 991,
   "metadata": {},
   "outputs": [],
   "source": [
    "total_stocks_needed = 6000\n",
    "added_stock = [1000,0, 0, 6000, 0, 0]"
   ]
  },
  {
   "cell_type": "code",
   "execution_count": 992,
   "metadata": {},
   "outputs": [
    {
     "data": {
      "text/plain": [
       "1000"
      ]
     },
     "execution_count": 992,
     "metadata": {},
     "output_type": "execute_result"
    }
   ],
   "source": [
    "# Calculate the daily average stock set\n",
    "daily_avg_stock_needed = round(total_stocks_needed / n_days)\n",
    "daily_avg_stock_needed"
   ]
  },
  {
   "cell_type": "code",
   "execution_count": 993,
   "metadata": {},
   "outputs": [
    {
     "name": "stdout",
     "output_type": "stream",
     "text": [
      "daily_avg_stock_needed\n",
      "1000\n",
      "daily_stock_in_system\n",
      "1166.6666666666667\n",
      "stocks_needed_array\n",
      "[1000, 1000, 1000, 1000, 1000, 1000]\n"
     ]
    }
   ],
   "source": [
    "daily_stock_in_system = np.sum(added_stock) / n_days\n",
    "\n",
    "stocks_needed = min(daily_avg_stock_needed, daily_stock_in_system)\n",
    "stocks_needed_array = [int(stocks_needed) for _ in range(n_days)]\n",
    "print(\"daily_avg_stock_needed\")\n",
    "print(daily_avg_stock_needed)\n",
    "print(\"daily_stock_in_system\")\n",
    "print(daily_stock_in_system)\n",
    "print(\"stocks_needed_array\")\n",
    "print(stocks_needed_array)\n"
   ]
  },
  {
   "cell_type": "code",
   "execution_count": 994,
   "metadata": {},
   "outputs": [
    {
     "name": "stdout",
     "output_type": "stream",
     "text": [
      "added_stock\n",
      "[1000, 0, 0, 6000, 0, 0]\n",
      "stocks_used\n",
      "[1000, 0, 0, 1000, 1000, 1000]\n",
      "stocks_needed_array\n",
      "[1000, 1000, 1000, 1000, 1000, 1000]\n",
      "stock_shortages\n",
      "[0, 1000, 2000, 0, 0, 0]\n",
      "\n",
      "total_added_stock\n",
      "7000\n",
      "total stock used\n",
      "4000\n",
      "total_stock_needed\n",
      "6000\n",
      "difference\n",
      "2000\n"
     ]
    }
   ],
   "source": [
    "\n",
    "stocks_used = []\n",
    "stock_shortages = [0] * n_days  # Initialize with zeros\n",
    "\n",
    "cumulative_stocks = 0\n",
    "\n",
    "for i in range(n_days):\n",
    "\n",
    "\n",
    "\n"
   ]
  }
 ],
 "metadata": {
  "kernelspec": {
   "display_name": "Python 3",
   "language": "python",
   "name": "python3"
  },
  "language_info": {
   "codemirror_mode": {
    "name": "ipython",
    "version": 3
   },
   "file_extension": ".py",
   "mimetype": "text/x-python",
   "name": "python",
   "nbconvert_exporter": "python",
   "pygments_lexer": "ipython3",
   "version": "3.12.2"
  }
 },
 "nbformat": 4,
 "nbformat_minor": 2
}
