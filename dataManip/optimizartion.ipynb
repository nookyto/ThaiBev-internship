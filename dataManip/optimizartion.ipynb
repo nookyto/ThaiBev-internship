{
 "cells": [
  {
   "cell_type": "code",
   "execution_count": 51,
   "metadata": {},
   "outputs": [],
   "source": [
    "import numpy as np"
   ]
  },
  {
   "cell_type": "code",
   "execution_count": 52,
   "metadata": {},
   "outputs": [],
   "source": [
    "n_days = 6\n",
    "\n",
    "# Initialize arrays\n",
    "total_stocks_in_system = 0\n",
    "stocks_used = np.zeros(n_days)\n",
    "stock_shortages = np.zeros(n_days)\n"
   ]
  },
  {
   "cell_type": "code",
   "execution_count": 53,
   "metadata": {},
   "outputs": [],
   "source": [
    "total_stocks_needed = 6000\n",
    "added_stock = [2000,0, 0, 0, 10000, 0]"
   ]
  },
  {
   "cell_type": "code",
   "execution_count": 54,
   "metadata": {},
   "outputs": [
    {
     "data": {
      "text/plain": [
       "1000"
      ]
     },
     "execution_count": 54,
     "metadata": {},
     "output_type": "execute_result"
    }
   ],
   "source": [
    "# Calculate the daily average stock set\n",
    "daily_avg_stock_needed = round(total_stocks_needed / n_days)\n",
    "daily_avg_stock_needed"
   ]
  },
  {
   "cell_type": "code",
   "execution_count": 55,
   "metadata": {},
   "outputs": [],
   "source": [
    "daily_stock_in_system = np.sum(added_stock) / n_days\n",
    "\n",
    "stocks_needed = min(daily_avg_stock_needed, daily_stock_in_system)\n"
   ]
  },
  {
   "cell_type": "code",
   "execution_count": 56,
   "metadata": {},
   "outputs": [],
   "source": [
    "#stocks needed array calculation\n",
    "\n"
   ]
  },
  {
   "cell_type": "code",
   "execution_count": 57,
   "metadata": {},
   "outputs": [
    {
     "name": "stdout",
     "output_type": "stream",
     "text": [
      "stock Needed\n",
      "1000\n",
      "stocks_used\n",
      "[1000, 1000, 1000, 1000, 1000, 1000]\n",
      "stock_in_storage\n",
      "[2000. 1000.    0. 5000. 4000. 3000.]\n"
     ]
    }
   ],
   "source": [
    "stocks_used = [0] * n_days\n",
    "stock_in_storage = np.zeros(n_days)\n",
    "for i in range(n_days):\n",
    "    # if we don't have enough stocks in storage\n",
    "    if stock_in_storage[i] < stocks_needed:\n",
    "        # if the added stock is enough to cover the day\n",
    "        if added_stock[i] + stock_in_storage[i] > stocks_needed:\n",
    "            # update the new stocks\n",
    "            stock_in_storage[i] = added_stock[i] + stock_in_storage[i] - stocks_needed\n",
    "            # send the correct amount of stocks out\n",
    "            stocks_used[i] = stocks_needed\n",
    "        # if the added stock isn't enough to cover the needed stocks of the day\n",
    "        else:\n",
    "            # send everything we have\n",
    "            stocks_used[i] = added_stock[i] + stock_in_storage[i]\n",
    "            # add a shortage into the system\n",
    "            stock_shortages[i] = added_stock[i] + stock_in_storage[i] - stocks_needed\n",
    "    # if we do have enough stocks in storage\n",
    "    else:\n",
    "        # update the new stocks in storage\n",
    "        stock_in_storage[i] = stock_in_storage[i] - stocks_needed + added_stock[i]\n",
    "        stocks_used[i] = stocks_needed\n",
    "\n",
    "\n",
    "    stock_in_storage[i:] = stock_in_storage[i]\n",
    "\n",
    "\n",
    "\n",
    "\n",
    "print(\"stock Needed\")\n",
    "print(stocks_needed)\n",
    "print(\"stocks_used\")\n",
    "print(stocks_used)\n",
    "print(\"stock_in_storage\")\n",
    "print(stock_in_storage)\n"
   ]
  },
  {
   "cell_type": "code",
   "execution_count": 58,
   "metadata": {},
   "outputs": [
    {
     "name": "stdout",
     "output_type": "stream",
     "text": [
      "stock Needed\n",
      "1000\n",
      "\n",
      "\n"
     ]
    },
    {
     "data": {
      "text/plain": [
       "[1000, 0.0, 0.0, 1000, 0.0, 0.0]"
      ]
     },
     "execution_count": 58,
     "metadata": {},
     "output_type": "execute_result"
    }
   ],
   "source": [
    "stocks_used = [0] * n_days\n",
    "stock_in_storage = np.zeros(n_days)\n",
    "for i in range(n_days):\n",
    "    # if we don't have enough stocks in storage\n",
    "    if stock_in_storage[i] < stocks_needed:\n",
    "        # if the added stock is enough to cover the day\n",
    "        if added_stock[i] + stock_in_storage[i] > stocks_needed:\n",
    "            # update the new stocks\n",
    "            stock_in_storage[i] = added_stock[i] + stock_in_storage[i] - stocks_needed\n",
    "            # send the correct amount of stocks out\n",
    "            stocks_used[i] = stocks_needed\n",
    "        # if the added stock isn't enough to cover the needed stocks of the day\n",
    "        else:\n",
    "            # send everything we have\n",
    "            stocks_used[i] = added_stock[i] + stock_in_storage[i]\n",
    "            # add a shortage into the system\n",
    "            stock_shortages[i] = added_stock[i] + stock_in_storage[i] - stocks_needed\n",
    "    # if we do have enough stocks in storage\n",
    "    else:\n",
    "        # update the new stocks in storage\n",
    "        stock_in_storage[i] = stock_in_storage[i] - stocks_needed + added_stock[i]\n",
    "        stocks_used[i] = stocks_needed\n",
    "\n",
    "\n",
    "\n",
    "\n",
    "print(\"stock Needed\")\n",
    "print(stocks_needed)\n",
    "print()\n",
    "print()\n",
    "stocks_used"
   ]
  }
 ],
 "metadata": {
  "kernelspec": {
   "display_name": "Python 3",
   "language": "python",
   "name": "python3"
  },
  "language_info": {
   "codemirror_mode": {
    "name": "ipython",
    "version": 3
   },
   "file_extension": ".py",
   "mimetype": "text/x-python",
   "name": "python",
   "nbconvert_exporter": "python",
   "pygments_lexer": "ipython3",
   "version": "3.12.3"
  }
 },
 "nbformat": 4,
 "nbformat_minor": 2
}
