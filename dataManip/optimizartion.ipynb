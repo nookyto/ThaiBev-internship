{
 "cells": [
  {
   "cell_type": "code",
   "execution_count": 146,
   "metadata": {},
   "outputs": [],
   "source": [
    "import numpy as np\n",
    "import pandas as pd\n",
    "\n",
    "added_stock = [2000,0,0,0,7000,0]\n",
    "stocks_needed_week = 6000\n",
    "\n",
    "n_days = len(added_stock)\n",
    "stocks_needed = round(stocks_needed_week / n_days)\n",
    "\n",
    "stocks_used = np.zeros(n_days)\n",
    "stock_shortages = np.zeros(n_days)\n",
    "stock_in_storage = np.zeros(n_days)"
   ]
  },
  {
   "cell_type": "code",
   "execution_count": 147,
   "metadata": {},
   "outputs": [
    {
     "name": "stdout",
     "output_type": "stream",
     "text": [
      "added_stock\n",
      "[2000, 0, 0, 0, 7000, 0]\n",
      "reversed_days_till_next_drop\n",
      "[4. 3. 2. 1. 2. 1.]\n"
     ]
    }
   ],
   "source": [
    "# calculate the day till next drop\n",
    "reversed_added_stock = added_stock[::-1]\n",
    "\n",
    "days_till_next_drop = np.zeros(n_days)\n",
    "\n",
    "for i in range(n_days):\n",
    "    if reversed_added_stock[i] == 0:\n",
    "        days_till_next_drop[i] = days_till_next_drop[i - 1] + 1\n",
    "\n",
    "for i in range(n_days):\n",
    "    if days_till_next_drop[i] == 0:\n",
    "        days_till_next_drop[i] = days_till_next_drop[i - 1] + 1\n",
    "\n",
    "print(\"added_stock\")\n",
    "print(added_stock)\n",
    "\n",
    "reversed_days_till_next_drop = days_till_next_drop[::-1]\n",
    "\n",
    "print(\"reversed_days_till_next_drop\")\n",
    "print(reversed_days_till_next_drop)"
   ]
  },
  {
   "cell_type": "code",
   "execution_count": 148,
   "metadata": {},
   "outputs": [
    {
     "name": "stdout",
     "output_type": "stream",
     "text": [
      "case1\n",
      "1000\n",
      "500.0\n",
      "case3\n",
      "1000\n",
      "1000.0\n",
      "case2\n",
      "1000\n",
      "250.0\n",
      "case2\n",
      "1000\n",
      "250.0\n",
      "case1\n",
      "1000\n",
      "1000.0\n",
      "case3\n",
      "1000\n",
      "1000.0\n"
     ]
    }
   ],
   "source": [
    "for i in range(n_days):\n",
    "    # if we don't have the stock in storage\n",
    "    if stock_in_storage[i] < stocks_needed:\n",
    "        # check the newly added stock \n",
    "        # if we have enough \n",
    "        if added_stock[i] + stock_in_storage[i] >= stocks_needed:\n",
    "            print(\"case1\")\n",
    "            # update the number of used item\n",
    "            stocks_used[i] = min(stocks_needed,(added_stock[i] + stock_in_storage[i]) / reversed_days_till_next_drop[i]) \n",
    "            # update the number of item in storage\n",
    "            stock_in_storage[i] = stock_in_storage[i] + added_stock[i] - stocks_used[i] \n",
    "        # if we don't have enogh items in the system\n",
    "        else:\n",
    "            print(\"case2\")\n",
    "            # send as much as we can\n",
    "            stocks_used[i] = (added_stock[i] + stock_in_storage[i]) / reversed_days_till_next_drop[i] \n",
    "            # update the number shortage item\n",
    "            stock_in_storage[i] = stocks_used[i] - stock_shortages[i]\n",
    "            # add all the shortage into the stocks needed\n",
    "            if n_days - i - 1 > 0:\n",
    "                stocks_needed += round(stock_shortages[i] / (n_days - i - 1))\n",
    "            else:\n",
    "                stocks_needed += round(stock_shortages[i])\n",
    "    # if we have enough items in the storage \n",
    "    else:\n",
    "        print(\"case3\")\n",
    "        # update the number of stocks in storage\n",
    "        stock_in_storage[i] = stock_in_storage[i] - stocks_needed + added_stock[i]\n",
    "        # send everything we have\n",
    "        stocks_used[i] = stocks_needed\n",
    "\n",
    "    print(stocks_needed)\n",
    "    print(stocks_used[i])\n",
    "\n",
    "\n",
    "\n",
    "    stock_in_storage[i:] = stock_in_storage[i]"
   ]
  },
  {
   "cell_type": "code",
   "execution_count": 149,
   "metadata": {},
   "outputs": [
    {
     "name": "stdout",
     "output_type": "stream",
     "text": [
      "stocks_used\n",
      "[ 500. 1000.  250.  250. 1000. 1000.]\n",
      "stock_shortages\n",
      "[0. 0. 0. 0. 0. 0.]\n",
      "stock_in_storage\n",
      "[1500.  500.  250.  250. 6250. 5250.]\n"
     ]
    }
   ],
   "source": [
    "print(\"stocks_used\")\n",
    "print(stocks_used)\n",
    "print(\"stock_shortages\")\n",
    "print(stock_shortages)\n",
    "print(\"stock_in_storage\")\n",
    "print(stock_in_storage)"
   ]
  }
 ],
 "metadata": {
  "kernelspec": {
   "display_name": "Python 3",
   "language": "python",
   "name": "python3"
  },
  "language_info": {
   "codemirror_mode": {
    "name": "ipython",
    "version": 3
   },
   "file_extension": ".py",
   "mimetype": "text/x-python",
   "name": "python",
   "nbconvert_exporter": "python",
   "pygments_lexer": "ipython3",
   "version": "3.12.2"
  }
 },
 "nbformat": 4,
 "nbformat_minor": 2
}
